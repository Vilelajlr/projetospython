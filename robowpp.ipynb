{
 "cells": [
  {
   "cell_type": "code",
   "execution_count": 33,
   "metadata": {},
   "outputs": [],
   "source": [
    "# Automacao de encaminhamento de mensagens no whatsapp\n",
    "# Usando a funcionalidade nativa do whatsapp de encaminhas mensagem\n",
    "# Encaminhar de 5 em 5 mensagens"
   ]
  },
  {
   "cell_type": "code",
   "execution_count": 1,
   "metadata": {},
   "outputs": [],
   "source": [
    "from selenium import webdriver\n",
    "from selenium.webdriver.chrome.service import Service\n",
    "from webdriver_manager.chrome import ChromeDriverManager\n",
    "\n",
    "\n",
    "service = Service(ChromeDriverManager().install())\n",
    "nav = webdriver.Chrome(service=service)\n",
    "nav.get('https://web.whatsapp.com/')"
   ]
  },
  {
   "cell_type": "code",
   "execution_count": 3,
   "metadata": {},
   "outputs": [],
   "source": [
    "from selenium.webdriver.common.keys import Keys\n",
    "import pyperclip\n",
    "import time\n",
    "\n",
    "mensagem = \"\"\"\n",
    "Olá, tudo bem? Estou fazendo um teste de automação de mensagens no whatsapp.\n",
    "Caso tenha recebido essa mensagem, por favor, me responda para que eu possa saber se funcionou.\n",
    "Obrigado!\n",
    "\"\"\"\n",
    "\n",
    "lista_contatos = ['Opcao 2', 'Opcao 3', 'Opcao 4', 'Opcao 5', 'Eu e eu', 'José Leandro Vilela']\n",
    "\n",
    "#enviar mensagem para o meu propio numero para depois encaminhar\n",
    "#clicar na lupa\n",
    "nav.find_element('xpath', '//*[@id=\"side\"]/div[1]/div/div[2]/button/div[2]/span').click()\n",
    "#digitar o nome do contato\n",
    "nav.find_element('xpath', '//*[@id=\"side\"]/div[1]/div/div[2]/div[2]/div/div/p').send_keys(\"Vilelajlimports\")\n",
    "#dar enter\n",
    "nav.find_element('xpath', '//*[@id=\"side\"]/div[1]/div/div[2]/div[2]/div/div/p').send_keys(Keys.ENTER)\n",
    "time.sleep(2)\n",
    "\n",
    "#digitar a mensagem\n",
    "pyperclip.copy(mensagem)\n",
    "nav.find_element('xpath', '//*[@id=\"main\"]/footer/div[1]/div/span[2]/div/div[2]/div[1]/div/div[1]/p').send_keys(Keys.CONTROL + \"v\")\n",
    "nav.find_element('xpath', '//*[@id=\"main\"]/footer/div[1]/div/span[2]/div/div[2]/div[1]/div/div[1]/p').send_keys(Keys.ENTER)\n"
   ]
  },
  {
   "cell_type": "code",
   "execution_count": 4,
   "metadata": {},
   "outputs": [],
   "source": [
    "#encaminhar a mensagem\n",
    "from selenium.webdriver.common.action_chains import ActionChains\n",
    "\n",
    "\n",
    "\n",
    "\n",
    "\n",
    "\n"
   ]
  },
  {
   "cell_type": "code",
   "execution_count": 5,
   "metadata": {},
   "outputs": [],
   "source": [
    "qtde_contatos = len(lista_contatos)\n",
    "\n",
    "if qtde_contatos % 5 == 0:\n",
    "    qtde_blocos = qtde_contatos / 5\n",
    "else:\n",
    "    qtde_blocos = int(qtde_contatos / 5) + 1\n",
    "\n",
    "\n",
    "\n",
    "for i in range(qtde_blocos):\n",
    "    #rodar o codigo de encaminhar\n",
    "    i_inicial = i * 5\n",
    "    i_final = (i + 1) * 5\n",
    "    lista_enviar = lista_contatos[i_inicial:i_final]\n",
    "\n",
    "    #selecionar quem vai receber a mensagem\n",
    "    list_elements = nav.find_elements('class name', '_amk4')\n",
    "    for item in list_elements:\n",
    "        mensagem = mensagem.replace('\\n', \"\")\n",
    "        texto = item.text.replace('\\n', \"\")\n",
    "        if mensagem in texto:\n",
    "            elemento = item\n",
    "            \n",
    "\n",
    "    #selecionar a mensagem para enviar\n",
    "    ActionChains(nav).move_to_element(elemento).perform()\n",
    "    elemento.find_element('class name', '_ahkm').click()\n",
    "    time.sleep(0.5)\n",
    "    #encaminhar para os outros contatos\n",
    "    nav.find_element('xpath', '//*[@id=\"app\"]/div/span[5]/div/ul/div/li[4]/div').click()\n",
    "    nav.find_element('xpath', '//*[@id=\"main\"]/span[2]/div/button[5]/span').click()\n",
    "    time.sleep(1)\n",
    "\n",
    "    for nome in lista_enviar:\n",
    "        #selecionar os 5 contatos para enviar\n",
    "        nav.find_element('xpath', '//*[@id=\"app\"]/div/span[2]/div/div/div/div/div/div/div/div[1]/div/div[2]/div[2]/div/div/p').send_keys(nome)\n",
    "        time.sleep(0.7)\n",
    "        #dar enter\n",
    "        nav.find_element('xpath', '//*[@id=\"app\"]/div/span[2]/div/div/div/div/div/div/div/div[1]/div/div[2]/div[2]/div/div/p').send_keys(Keys.ENTER)\n",
    "        time.sleep(0.5)\n",
    "        #apagar nome do contato\n",
    "        \n",
    "        nav.find_element('xpath', '//*[@id=\"app\"]/div/span[2]/div/div/div/div/div/div/div/div[1]/div/div[2]/div[2]/div/div/p').send_keys(Keys.BACKSPACE)\n",
    "        time.sleep(0.5)\n",
    "    \n",
    "    nav.find_element('xpath', '//*[@id=\"app\"]/div/span[2]/div/div/div/div/div/div/div/span/div/div/div').click()\n",
    "    time.sleep(3)"
   ]
  }
 ],
 "metadata": {
  "kernelspec": {
   "display_name": "Python 3",
   "language": "python",
   "name": "python3"
  },
  "language_info": {
   "codemirror_mode": {
    "name": "ipython",
    "version": 3
   },
   "file_extension": ".py",
   "mimetype": "text/x-python",
   "name": "python",
   "nbconvert_exporter": "python",
   "pygments_lexer": "ipython3",
   "version": "3.12.5"
  }
 },
 "nbformat": 4,
 "nbformat_minor": 2
}
